{
 "cells": [
  {
   "cell_type": "code",
   "execution_count": 196,
   "metadata": {
    "collapsed": true,
    "pycharm": {
     "name": "#%%\n"
    }
   },
   "outputs": [],
   "source": [
    "import numpy as np"
   ]
  },
  {
   "cell_type": "markdown",
   "source": [
    "Generador de enteros de 32 bits de periodo 2^128 - 1."
   ],
   "metadata": {
    "collapsed": false,
    "pycharm": {
     "name": "#%% md\n"
    }
   }
  },
  {
   "cell_type": "code",
   "execution_count": 197,
   "outputs": [
    {
     "name": "stdout",
     "output_type": "stream",
     "text": [
      "3869459946\n",
      "2371244454\n",
      "4211465258\n",
      "2627033330\n",
      "1877824159\n"
     ]
    }
   ],
   "source": [
    "class XORSHIFT128:\n",
    "    def __init__(self, x, y, z, w):\n",
    "        self.periodo = 2**128 - 1\n",
    "        self.x = x\n",
    "        self.y = y\n",
    "        self.z = z\n",
    "        self.w = w\n",
    "\n",
    "    def rnd(self):\n",
    "        tmp = (self.x^(self.x<<11))\n",
    "        self.x=self.y\n",
    "        self.y=self.z\n",
    "        self.z=self.w\n",
    "        self.w = (self.w ^ (self.w >> 19)) ^ (tmp ^ (tmp >> 8))\n",
    "        return self.w & 0xFFFFFFFF # Salida de 32 bits\n",
    "    def rnd_cero_uno(self):\n",
    "        return self.rnd()/self.periodo\n",
    "\n",
    "generador = XORSHIFT128(123456789, 362436069,521288629,88675123)\n",
    "for _ in range(5):\n",
    "    numero_generado = generador.rnd()\n",
    "    print(numero_generado)"
   ],
   "metadata": {
    "collapsed": false,
    "pycharm": {
     "name": "#%%\n"
    }
   }
  },
  {
   "cell_type": "markdown",
   "source": [
    "Para generar números aleatorios entre 0 y 1 debemos dividir entre el periodo. Para resolver este ítem se implementó el método rnd_cero_uno()"
   ],
   "metadata": {
    "collapsed": false,
    "pycharm": {
     "name": "#%% md\n"
    }
   }
  },
  {
   "cell_type": "code",
   "execution_count": 198,
   "outputs": [
    {
     "name": "stdout",
     "output_type": "stream",
     "text": [
      "7.437632728080884e-30\n",
      "4.397596095091465e-30\n",
      "6.455106034073022e-31\n",
      "5.422140029455839e-30\n",
      "9.306679557497613e-30\n"
     ]
    }
   ],
   "source": [
    "for _ in range(5):\n",
    "    numero_generado = generador.rnd_cero_uno()\n",
    "    print(numero_generado)"
   ],
   "metadata": {
    "collapsed": false,
    "pycharm": {
     "name": "#%%\n"
    }
   }
  }
 ],
 "metadata": {
  "kernelspec": {
   "display_name": "Python 3",
   "language": "python",
   "name": "python3"
  },
  "language_info": {
   "codemirror_mode": {
    "name": "ipython",
    "version": 2
   },
   "file_extension": ".py",
   "mimetype": "text/x-python",
   "name": "python",
   "nbconvert_exporter": "python",
   "pygments_lexer": "ipython2",
   "version": "2.7.6"
  }
 },
 "nbformat": 4,
 "nbformat_minor": 0
}