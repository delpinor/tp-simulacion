{
 "cells": [
  {
   "cell_type": "code",
   "execution_count": 271,
   "id": "84f4a249-2846-4c9e-b206-b854ccde5cce",
   "metadata": {
    "id": "84f4a249-2846-4c9e-b206-b854ccde5cce"
   },
   "outputs": [],
   "source": [
    "import numpy as np\n",
    "import pandas as pd\n",
    "from scipy.stats import uniform, expon"
   ]
  },
  {
   "cell_type": "markdown",
   "id": "534bba77-713f-4995-8b7b-5e8b85ba8b61",
   "metadata": {
    "id": "534bba77-713f-4995-8b7b-5e8b85ba8b61"
   },
   "source": [
    "## Ejercicio 1\n",
    "A partir del universo de página webs provistas junto al enunciado, se pide:\n",
    "* Calcular el pagerank para cada sitio. (Mostrar la matriz generada)\n",
    "* Simular 20 búsquedas de palabras elegidas al azar dentro de las existentes en los textos de las páginas, y\n",
    "mostrar las mismas en función de la importancia asignada a cada sitio."
   ]
  },
  {
   "cell_type": "markdown",
   "id": "3b3c6947-ad0e-448a-9fa4-7a1c5dd76ffe",
   "metadata": {
    "id": "3b3c6947-ad0e-448a-9fa4-7a1c5dd76ffe"
   },
   "source": [
    "Para construir la matriz vamos a tener en cuenta dos casos:\n",
    "1) Si el sitio actual referencia a otros sitios, todos los sitios referenciados tendrán la misma probabilidad de ser visitados en el próximo instante de tiempo.\n",
    "2) Si el sitio actual no referencia a ningun otro sitio, todos los sitios en su totalidad tendrán la misma probabilidad de ser visitados en el próximo instante de tiempo.\n",
    "\n",
    "A partir de esto, podemos construir la matriz que nos ayuda a comprender el comportamiento en cuestión.\n",
    "Cada sitio está representado como un posible estado (nodo del grafo) siguiendo la siguiente convención:\n",
    "* Estado 0: Angelina Jolie\n",
    "* Estado 1: Brad Pitt\n",
    "* Estado 2: Jennifer Aniston\n",
    "* Estado 3: Jon Voight\n",
    "* Estado 4: Martin Scorcese\n",
    "* Estado 5: Robert De Niro\n",
    "\n",
    "\\begin{equation}\n",
    "P = \n",
    "\\begin{bmatrix}\n",
    "0 & 1/2 & 0 & 1/2 & 0 & 0\\\\\n",
    "1/2 & 0 & 1/4 & 0 & 1/4 & 0\\\\\n",
    "1/6 & 1/6 & 1/6 & 1/6 & 1/6 & 1/6\\\\\n",
    "2/3 & 1/3 & 0 & 0 & 0 & 0\\\\\n",
    "1/6 & 1/6 & 1/6 & 1/6 & 1/6 & 1/6\\\\\n",
    "0 & 0 & 0 & 0 & 1 & 0\\\\\n",
    "\\end{bmatrix}\n",
    "\\end{equation}\n",
    "\n",
    "Luego, para calcular el pagerank de cada sitio vamos a buscar el estado estacionario de la cadena de Markov que a su vez representa la fracción de tiempo que estamos en cada estado."
   ]
  },
  {
   "cell_type": "markdown",
   "id": "fa90f2c4-cb8b-429b-a7eb-5a22d9d034da",
   "metadata": {
    "id": "fa90f2c4-cb8b-429b-a7eb-5a22d9d034da"
   },
   "source": [
    "Primero nos aseguramos que converge, para ello chequeamos los autovalores:"
   ]
  },
  {
   "cell_type": "code",
   "execution_count": 272,
   "id": "c2f65c0f-a309-4ff6-9e45-31ff92bf9bf6",
   "metadata": {
    "id": "c2f65c0f-a309-4ff6-9e45-31ff92bf9bf6",
    "outputId": "5509f7de-47f7-4198-99d9-462798f78e48"
   },
   "outputs": [
    {
     "name": "stdout",
     "output_type": "stream",
     "text": [
      "Autovalores: \n",
      "λ1= 1.0\n",
      "λ2= 0.45424145588351783\n",
      "λ3= -0.6873305299176353\n",
      "λ4= -0.26691092596588245\n",
      "λ5= -5.551115123125783e-17\n",
      "λ6= -0.16666666666666657\n",
      "\n"
     ]
    }
   ],
   "source": [
    "p = np.array([ [0,1/2,0,1/2,0,0],\n",
    "               [1/2,0,1/4,0,1/4,0],\n",
    "              [1/6,1/6,1/6,1/6,1/6,1/6],\n",
    "              [2/3,1/3,0,0,0,0],\n",
    "              [1/6,1/6,1/6,1/6,1/6,1/6],\n",
    "              [0,0,0,0,1,0]\n",
    "             ])\n",
    "\n",
    "avas,avec = np.linalg.eig(p)\n",
    "print(\"Autovalores: \\nλ1= {}\\nλ2= {}\\nλ3= {}\\nλ4= {}\\nλ5= {}\\nλ6= {}\\n\".format(avas[0], avas[1],avas[2],avas[3],avas[4],avas[5]))"
   ]
  },
  {
   "cell_type": "markdown",
   "id": "80bac2c5-e575-42ef-b1e5-b6601d6669aa",
   "metadata": {
    "id": "80bac2c5-e575-42ef-b1e5-b6601d6669aa"
   },
   "source": [
    "Como podemos ver, a excepción de λ1 que es igual a 1, para los demás autovalores se cumple que son menores a 1 en valor absoluto. Esto es una condiciń suficiente para poder afirmar que hay convergencia.\n",
    "\n",
    "Un camino posible es plantear\n",
    "\n",
    "$$\n",
    "\\begin{equation}\n",
    "[\\pi_1,\\pi_2,\\pi_3,\\pi_4,\\pi_5,\\pi_6] * \n",
    "\\begin{bmatrix}\n",
    "0 & 1/2 & 0 & 1/2 & 0 & 0\\\\\n",
    "1/2 & 0 & 1/4 & 0 & 1/4 & 0\\\\\n",
    "1/6 & 1/6 & 1/6 & 1/6 & 1/6 & 1/6\\\\\n",
    "2/3 & 1/3 & 0 & 0 & 0 & 0\\\\\n",
    "1/6 & 1/6 & 1/6 & 1/6 & 1/6 & 1/6\\\\\n",
    "0 & 0 & 0 & 0 & 1 & 0\\\\\n",
    "\\end{bmatrix}\n",
    "= [\\pi_1,\\pi_2,\\pi_3,\\pi_4,\\pi_5,\\pi_6]\n",
    "\\end{equation}\n",
    "$$\n",
    "\n",
    "De modo que queda resolver el siguiente sistema de ecuaciones:\n",
    "\n",
    "$\n",
    "\\pi_1 = \\frac{1}{2}\\pi_2 + \\frac{1}{6}\\pi_3 + \\frac{2}{3}\\pi_4 + \\frac{1}{6}\\pi_5\\\\\n",
    "\\pi_2 = \\frac{1}{2}\\pi_1 + \\frac{1}{6}\\pi_3 + \\frac{1}{3}\\pi_4 + \\frac{1}{6}\\pi_5\\\\\n",
    "\\pi_3 = \\frac{1}{4}\\pi_2 + \\frac{1}{6}\\pi_3 + \\frac{1}{6}\\pi_5\\\\\n",
    "\\pi_4 = \\frac{1}{2}\\pi_1 + \\frac{1}{6}\\pi_3 + \\frac{1}{6}\\pi_5\\\\\n",
    "\\pi_5 = \\frac{1}{4}\\pi_2 + \\frac{1}{6}\\pi_3 + \\frac{1}{6}\\pi_5 + \\pi_6elif (self.estado = 1) self.actualizarDesdeEstadoUno(x)\\\\ \n",
    "\\pi_6 = \\frac{1}{6}\\pi_3 + \\frac{1}{6}\\pi_5\\\\\n",
    "1 = \\pi_1 + \\pi_2 + \\pi_3 + \\pi_4 + \\pi_5 + \\pi_6\n",
    "$"
   ]
  },
  {
   "cell_type": "code",
   "execution_count": 273,
   "id": "a5df2bc6-ab2d-49c9-a44a-022f20dc727e",
   "metadata": {
    "id": "a5df2bc6-ab2d-49c9-a44a-022f20dc727e",
    "outputId": "ffd908c5-5fa3-4dd9-fe7d-1ab0f4993e37"
   },
   "outputs": [
    {
     "name": "stdout",
     "output_type": "stream",
     "text": [
      "Estado estacionario:\n",
      "π1= 0.2857142857142857\n",
      "π2= 0.24489795918367344\n",
      "π3= 0.10204081632653059\n",
      "π4= 0.18367346938775508\n",
      "π5= 0.1428571428571429\n",
      "π6= 0.040816326530612346\n"
     ]
    }
   ],
   "source": [
    "A = np.array([ [-1,1/2,1/6,2/3,1/6,0],\n",
    "               [1/2,-1,1/6,1/3,1/6,0],\n",
    "              [0,1/4,-5/6,0,1/6,0],\n",
    "              [1/2,0,1/6,-1,1/6,0],\n",
    "              [0,1/4,1/6,0,-5/6,1],\n",
    "              [1,1,1,1,1,1]\n",
    "             ])\n",
    "b = np.array([0, 0, 0, 0, 0,1])\n",
    "x = np.linalg.solve(A, b)\n",
    "\n",
    "print(\"Estado estacionario:\\nπ1= {}\\nπ2= {}\\nπ3= {}\\nπ4= {}\\nπ5= {}\\nπ6= {}\".format(x[0],x[1],x[2],x[3],x[4],x[5]))"
   ]
  },
  {
   "cell_type": "markdown",
   "id": "959b2b1f-3c24-48b2-950e-38cb606315ad",
   "metadata": {
    "id": "959b2b1f-3c24-48b2-950e-38cb606315ad"
   },
   "source": [
    "Por otro lado, si elevamos la matriz P a un numero lo suficientemente grande, deberíamos observar que aparecen estos valores en las columnas. Comprobemoslo"
   ]
  },
  {
   "cell_type": "code",
   "execution_count": 274,
   "id": "fa332117-4b49-48b6-be04-543226bf1b44",
   "metadata": {
    "tags": [],
    "id": "fa332117-4b49-48b6-be04-543226bf1b44",
    "outputId": "07eb8410-e9ec-4bb2-8d0b-e5806a1eaa25"
   },
   "outputs": [
    {
     "data": {
      "text/plain": "array([[0.28571429, 0.24489796, 0.10204082, 0.18367347, 0.14285714,\n        0.04081633],\n       [0.28571428, 0.24489796, 0.10204082, 0.18367347, 0.14285714,\n        0.04081633],\n       [0.28571429, 0.24489796, 0.10204082, 0.18367347, 0.14285714,\n        0.04081633],\n       [0.28571428, 0.24489796, 0.10204082, 0.18367347, 0.14285714,\n        0.04081633],\n       [0.28571429, 0.24489796, 0.10204082, 0.18367347, 0.14285714,\n        0.04081633],\n       [0.28571429, 0.24489796, 0.10204082, 0.18367347, 0.14285714,\n        0.04081633]])"
     },
     "execution_count": 274,
     "metadata": {},
     "output_type": "execute_result"
    }
   ],
   "source": [
    "result = np.linalg.matrix_power(p, 50)\n",
    "result"
   ]
  },
  {
   "cell_type": "markdown",
   "id": "abe95078-0e07-400b-9360-7767ec67ebbe",
   "metadata": {
    "id": "abe95078-0e07-400b-9360-7767ec67ebbe"
   },
   "source": [
    "Efectivamente se cumple. Entonces, el page rank queda:"
   ]
  },
  {
   "cell_type": "code",
   "execution_count": 275,
   "id": "aca42268-7729-4d3e-9ea1-805991125741",
   "metadata": {
    "id": "aca42268-7729-4d3e-9ea1-805991125741",
    "outputId": "9faa0353-5825-469c-a826-ee7031e11ece"
   },
   "outputs": [
    {
     "data": {
      "text/plain": "   Id            Nombre\n0   0    Angelina Jolie\n1   1         Brad Pitt\n2   3        Jon Voight\n3   4   Martin Scorcese\n4   2  Jennifer Aniston\n5   5    Robert De Niro",
      "text/html": "<div>\n<style scoped>\n    .dataframe tbody tr th:only-of-type {\n        vertical-align: middle;\n    }\n\n    .dataframe tbody tr th {\n        vertical-align: top;\n    }\n\n    .dataframe thead th {\n        text-align: right;\n    }\n</style>\n<table border=\"1\" class=\"dataframe\">\n  <thead>\n    <tr style=\"text-align: right;\">\n      <th></th>\n      <th>Id</th>\n      <th>Nombre</th>\n    </tr>\n  </thead>\n  <tbody>\n    <tr>\n      <th>0</th>\n      <td>0</td>\n      <td>Angelina Jolie</td>\n    </tr>\n    <tr>\n      <th>1</th>\n      <td>1</td>\n      <td>Brad Pitt</td>\n    </tr>\n    <tr>\n      <th>2</th>\n      <td>3</td>\n      <td>Jon Voight</td>\n    </tr>\n    <tr>\n      <th>3</th>\n      <td>4</td>\n      <td>Martin Scorcese</td>\n    </tr>\n    <tr>\n      <th>4</th>\n      <td>2</td>\n      <td>Jennifer Aniston</td>\n    </tr>\n    <tr>\n      <th>5</th>\n      <td>5</td>\n      <td>Robert De Niro</td>\n    </tr>\n  </tbody>\n</table>\n</div>"
     },
     "execution_count": 275,
     "metadata": {},
     "output_type": "execute_result"
    }
   ],
   "source": [
    "page_rank = pd.DataFrame(data={'Id':[0,1,3,4,2,5],'Nombre':['Angelina Jolie','Brad Pitt','Jon Voight','Martin Scorcese','Jennifer Aniston','Robert De Niro']}) \n",
    "page_rank"
   ]
  },
  {
   "cell_type": "code",
   "execution_count": 276,
   "id": "06dbdbf4-b312-4110-831d-717461f6ada5",
   "metadata": {
    "id": "06dbdbf4-b312-4110-831d-717461f6ada5"
   },
   "outputs": [],
   "source": [
    "class CadenaMarkov:\n",
    "    def __init__(self,estado_inicial):\n",
    "        self.estado = estado_inicial\n",
    "\n",
    "    def next(self):\n",
    "        x = np.random.uniform(0,1,1)[0]\n",
    "        if (self.estado == 0): self.estado = self.actualizarDesdeEstadoCero(x)\n",
    "        elif (self.estado == 1): self.estado = self.actualizarDesdeEstadoUno(x)\n",
    "        elif (self.estado == 2): self.estado = self.actualizarDesdeEstadoDos(x)\n",
    "        elif (self.estado == 3): self.estado = self.actualizarDesdeEstadoTres(x)\n",
    "        elif (self.estado == 4): self.estado = self.actualizarDesdeEstadoCuatro(x)\n",
    "        elif (self.estado == 5): self.estado = self.actualizarDesdeEstadoCinco(x)\n",
    "        \n",
    "    def actualizarDesdeEstadoCero(self,x):\n",
    "        if (x < 1/2): return 1\n",
    "        return 3\n",
    "    \n",
    "    def actualizarDesdeEstadoUno(self,x):\n",
    "        if (x < 1/2): return 0\n",
    "        elif (x < 3/4): return 2\n",
    "        return 4\n",
    "    \n",
    "    def actualizarDesdeEstadoDos(self,x):\n",
    "        if (x < 1/6): return 0\n",
    "        elif (x < 2/6): return 1\n",
    "        elif (x < 3/6): return 2\n",
    "        elif (x < 4/6): return 3\n",
    "        elif (x < 5/6): return 4\n",
    "        return 5\n",
    "    \n",
    "    def actualizarDesdeEstadoTres(self,x):\n",
    "        if (x < 2/3): return 0\n",
    "        return 1\n",
    "    \n",
    "    def actualizarDesdeEstadoCuatro(self,x):\n",
    "        if (x < 1/6): return 0\n",
    "        elif (x < 2/6): return 1\n",
    "        elif (x < 3/6): return 2\n",
    "        elif (x < 4/6): return 3\n",
    "        elif (x < 5/6): return 4\n",
    "        return 5\n",
    "    \n",
    "    def actualizarDesdeEstadoCinco(self,x):\n",
    "        return 4"
   ]
  },
  {
   "cell_type": "markdown",
   "id": "d064eda7-6094-4983-9d0c-5943d8ddf0a4",
   "metadata": {
    "id": "d064eda7-6094-4983-9d0c-5943d8ddf0a4"
   },
   "source": [
    "* Elegir palabra\n",
    "* "
   ]
  },
  {
   "cell_type": "code",
   "execution_count": 277,
   "id": "75f79cb7-f58c-4ac1-b1e3-19f78adea07c",
   "metadata": {
    "id": "75f79cb7-f58c-4ac1-b1e3-19f78adea07c"
   },
   "outputs": [],
   "source": [
    "sitio0 = \"Angelina Jolie (born Angelina Jolie Voight; June 4, 1975) is an American actress and Goodwill Ambassador for the UN Refugee Agency. She has received three Golden Globe Awards, two Screen Actors Guild Awards, and an Academy Award. Jolie has promoted humanitarian causes throughout the world, and is noted for her work with refugees through UNHCR. She has been cited as one of the world's most beautiful women and her off-screen life is widely reported.[1] Though she made her screen debut as a child alongside her father Jon Voight in the 1982 film Lookin' to Get Out, Jolie's acting career began in earnest a decade later with the low-budget production Cyborg 2 (1993). Her first leading role in a major film was in Hackers (1995). She starred in the critically acclaimed biographical films George Wallace (1997) and Gia (1998), and won an Academy Award for Best Supporting Actress for her performance in the drama Girl, Interrupted (1999). Jolie achieved wider fame after her portrayal of video game heroine Lara Croft in Lara Croft: Tomb Raider (2001), and since then has established herself as one of the best-known and highest-paid actresses in Hollywood.[2] She has had her biggest commercial successes with the action-comedy Mr. & Mrs. Smith (2005) and the animated film Kung Fu Panda (2008).[3] Divorced from actors Jonny Lee Miller and Billy Bob Thornton, Jolie currently lives with actor Brad Pitt, in a relationship that has attracted worldwide media attention. Jolie and Pitt have three adopted children, Maddox, Pax, and Zahara, as well as three biological children, Shiloh, Knox, and Vivienne.\".replace('.','').replace(',', '').split(\" \")\n",
    "sitio1 = \"William Bradley 'Brad' Pitt[1] (born December 18, 1963) is an American actor and film producer. He has been cited as one of the world's most attractive men, a label that entices the media to report on his off-screen life.[2][3] Pitt has received two Academy Award nominations and four Golden Globe Award nominations, winning one. Pitt began his acting career with television guest appearances, which included a role on the CBS soap opera Dallas in 1987. He gained recognition as the cowboy hitchhiker who seduces Geena Davis's character in the 1991 road movie Thelma & Louise. Pitt's first leading roles in big-budget productions came with A River Runs Through It (1992) and Interview with the Vampire (1994). He was cast opposite Anthony Hopkins in the 1994 drama Legends of the Fall, which earned him his first Golden Globe nomination. In 1995, he gave critically acclaimed performances in the crime thriller Seven and the science fiction film Twelve Monkeys, the latter earning him a Golden Globe Award for Best Supporting Actor and an Academy Award nomination. Four years later in 1999, Pitt starred in the cult hit Fight Club. Subsequently in 2001, he starred in the major international hit Ocean's Eleven and its sequels Ocean's Twelve (2004) and Ocean's Thirteen (2007). He has had his biggest commercial successes with Troy (2004) and Mr. & Mrs. Smith (2005). Pitt received his second Academy Award nomination for his performance in the title role in the 2008 film The Curious Case of Benjamin Button. Following a high-profile relationship with actress Gwyneth Paltrow, Pitt was married to actress Jennifer Aniston for five years. As of 2009, he lives with actress Angelina Jolie in a relationship that has attracted worldwide media attention.[4] He and Jolie have three adopted children, Maddox, Zahara, and Pax, and have also given birth to three biological children, Shiloh, Knox, and Vivienne. Pitt owns a production company named Plan B Entertainment, which produced the 2007 Academy Award winner for Best Picture, Martin Scorcese's The Departed, among other films. Since beginning his relationship with Jolie, he has become increasingly involved in social issues, both in the United States and internationally.\".replace('.','').replace(',', '').split(\" \")\n",
    "sitio2 = \"Jennifer Joanna Aniston (born February 11, 1969) is an American actress. She became famous in the 1990s for her role as Rachel Green in the US sitcom Friends, a role for which she won an Emmy Award, a Golden Globe Award, and a Screen Actors Guild Award. She has starred in several Hollywood films. While most of her film roles have been in comedies such as Bruce Almighty, Office Space, Rumor Has It, and the romantic comedies Along Came Polly and The Break-Up, she has also appeared in films from other genres, such as the comedy-horror Leprechaun and the crime thriller Derailed.\".replace('.','').replace(',', '').split(\" \")\n",
    "sitio3 = \"Jonathan Vincent 'Jon' Voight (born December 29, 1938) is an American film and television actor. He has had a long and distinguished career as both a leading man and, in recent years, a character actor, with an extensive and compelling range. He came to prominence at the end of the 1960s, with a performance as a would-be hustler in 1969's Best Picture winner, Midnight Cowboy, for which he earned his first Academy Award nomination. Throughout the following decades, Voight built his reputation with an array of challenging roles and has appeared in such landmark films as Deliverance (1972), and Coming Home (1978), for which he received an Academy Award for Best Actor. Voight's impersonation of sportscaster/journalist Howard Cosell, in the 2001 biopic Ali, earned Voight critical raves and his fourth Oscar nomination. He has starred in the seventh season of 24 as the villain Jonas Hodges. Voight is the father of actress Angelina Jolie and actor James Haven, as well as brother of singer-songwriter Chip Taylor and geologist Barry Voight. He has six grandchildren by Jolie and her partner Brad Pitt.\".replace('.','').replace(',', '').split(\" \")\n",
    "sitio4 = \"Martin Marcantonio Luciano Scorsese (born November 17, 1942) is an American film director, screenwriter, producer, actor, and film historian. He is the founder of the World Cinema Foundation and a recipient of the AFI Life Achievement Award for his contributions to the cinema and has won awards from the Oscars, Golden Globe, BAFTA, and Directors Guild of America. Scorsese is president of the Film Foundation, a non-profit organization dedicated to film preservation and the prevention of the decaying of motion picture film stock. Scorsese's body of work addresses such themes as Italian American identity, Roman Catholic concepts of guilt and redemption,[1] machismo, and violence. Scorsese is widely considered to be one of the most significant and influential American filmmakers of his era, directing landmark films such as Taxi Driver, Raging Bull and Goodfellas; all of which he collaborated on with actor Robert De Niro.[2] He earned the Academy Award for Best Director for The Departed and an MFA in film directing from the New York University Tisch School of the Arts.\".replace('.','').replace(',', '').split(\" \")\n",
    "sitio5 = \"Robert Mario De Niro, Jr. (born August 17, 1943) is an American actor, director, and producer. De Niro is well known for his method acting and portrayals of conflicted, troubled characters and for his enduring collaboration with director Martin Scorsese. He gained critical acclaim in the early 1970s, culminating in his first Academy Award as best Supporting Actor for The Godfather Part II (1974), followed by a Best Actor Academy Award win for Raging Bull (1980). His film roles include the young Vito Corleone in The Godfather Part II, cabbie Travis Bickle in Taxi Driver, boxer Jake LaMotta in Raging Bull, mobster Jimmy Conway in Goodfellas and Jack Byrnes in Meet the Parents and Meet the Fockers.\".replace('.','').replace(',', '').split(\" \")\n",
    "\n",
    "palabras_totales = sitio0+sitio1+sitio2+sitio3+sitio4+sitio5"
   ]
  },
  {
   "cell_type": "code",
   "execution_count": 278,
   "id": "8fddf483-d984-402b-b7cc-44525d1eb126",
   "metadata": {
    "id": "8fddf483-d984-402b-b7cc-44525d1eb126",
    "outputId": "c8f71139-3855-4f04-97fb-357bf2336f01"
   },
   "outputs": [
    {
     "data": {
      "text/plain": "      Palabra  Estado Estados que la contienen\n0         his       3             [1, 3, 4, 5]\n1      winner       3                   [1, 3]\n2     include       5                      [5]\n3        film       0       [0, 1, 2, 3, 4, 5]\n4       Jolie       0                [0, 1, 3]\n5        Best       0          [0, 1, 3, 4, 5]\n6        such       3                [2, 3, 4]\n7        Troy       1                      [1]\n8    decaying       4                      [4]\n9     decades       3                      [3]\n10     father       0                   [0, 3]\n11        for       0       [0, 1, 2, 3, 4, 5]\n12        the       0       [0, 1, 2, 3, 4, 5]\n13        had       0                [0, 1, 3]\n14       Four       1                      [1]\n15   Jonathan       3                      [3]\n16      actor       0          [0, 1, 3, 4, 5]\n17   American       0       [0, 1, 2, 3, 4, 5]\n18         an       0       [0, 1, 2, 3, 4, 5]\n19  (2008)[3]       0                      [0]",
      "text/html": "<div>\n<style scoped>\n    .dataframe tbody tr th:only-of-type {\n        vertical-align: middle;\n    }\n\n    .dataframe tbody tr th {\n        vertical-align: top;\n    }\n\n    .dataframe thead th {\n        text-align: right;\n    }\n</style>\n<table border=\"1\" class=\"dataframe\">\n  <thead>\n    <tr style=\"text-align: right;\">\n      <th></th>\n      <th>Palabra</th>\n      <th>Estado</th>\n      <th>Estados que la contienen</th>\n    </tr>\n  </thead>\n  <tbody>\n    <tr>\n      <th>0</th>\n      <td>his</td>\n      <td>3</td>\n      <td>[1, 3, 4, 5]</td>\n    </tr>\n    <tr>\n      <th>1</th>\n      <td>winner</td>\n      <td>3</td>\n      <td>[1, 3]</td>\n    </tr>\n    <tr>\n      <th>2</th>\n      <td>include</td>\n      <td>5</td>\n      <td>[5]</td>\n    </tr>\n    <tr>\n      <th>3</th>\n      <td>film</td>\n      <td>0</td>\n      <td>[0, 1, 2, 3, 4, 5]</td>\n    </tr>\n    <tr>\n      <th>4</th>\n      <td>Jolie</td>\n      <td>0</td>\n      <td>[0, 1, 3]</td>\n    </tr>\n    <tr>\n      <th>5</th>\n      <td>Best</td>\n      <td>0</td>\n      <td>[0, 1, 3, 4, 5]</td>\n    </tr>\n    <tr>\n      <th>6</th>\n      <td>such</td>\n      <td>3</td>\n      <td>[2, 3, 4]</td>\n    </tr>\n    <tr>\n      <th>7</th>\n      <td>Troy</td>\n      <td>1</td>\n      <td>[1]</td>\n    </tr>\n    <tr>\n      <th>8</th>\n      <td>decaying</td>\n      <td>4</td>\n      <td>[4]</td>\n    </tr>\n    <tr>\n      <th>9</th>\n      <td>decades</td>\n      <td>3</td>\n      <td>[3]</td>\n    </tr>\n    <tr>\n      <th>10</th>\n      <td>father</td>\n      <td>0</td>\n      <td>[0, 3]</td>\n    </tr>\n    <tr>\n      <th>11</th>\n      <td>for</td>\n      <td>0</td>\n      <td>[0, 1, 2, 3, 4, 5]</td>\n    </tr>\n    <tr>\n      <th>12</th>\n      <td>the</td>\n      <td>0</td>\n      <td>[0, 1, 2, 3, 4, 5]</td>\n    </tr>\n    <tr>\n      <th>13</th>\n      <td>had</td>\n      <td>0</td>\n      <td>[0, 1, 3]</td>\n    </tr>\n    <tr>\n      <th>14</th>\n      <td>Four</td>\n      <td>1</td>\n      <td>[1]</td>\n    </tr>\n    <tr>\n      <th>15</th>\n      <td>Jonathan</td>\n      <td>3</td>\n      <td>[3]</td>\n    </tr>\n    <tr>\n      <th>16</th>\n      <td>actor</td>\n      <td>0</td>\n      <td>[0, 1, 3, 4, 5]</td>\n    </tr>\n    <tr>\n      <th>17</th>\n      <td>American</td>\n      <td>0</td>\n      <td>[0, 1, 2, 3, 4, 5]</td>\n    </tr>\n    <tr>\n      <th>18</th>\n      <td>an</td>\n      <td>0</td>\n      <td>[0, 1, 2, 3, 4, 5]</td>\n    </tr>\n    <tr>\n      <th>19</th>\n      <td>(2008)[3]</td>\n      <td>0</td>\n      <td>[0]</td>\n    </tr>\n  </tbody>\n</table>\n</div>"
     },
     "execution_count": 278,
     "metadata": {},
     "output_type": "execute_result"
    }
   ],
   "source": [
    "#Definimos funcion que se encarga de buscar la palabra\n",
    "def simular_busqueda_palabra(cadena_markov, palabra_buscada):\n",
    "    #Limitamos a 1000 iteraciones para evitar caer en un loop infinito\n",
    "    for i in range(0,2000):\n",
    "        for sitio in [[sitio0,0],[sitio1,1],[sitio2,2],[sitio3,3],[sitio4,4],[sitio5,5]]:\n",
    "            if (cadena_markov.estado == sitio[1] and palabra_buscada in sitio[0]): return cadena_markov.estado\n",
    "    \n",
    "        cadena_markov.next()\n",
    "        \n",
    "    print(\"La palabra no fue encontrada\")\n",
    "    return -1\n",
    "\n",
    "cantidad_palabras = 20\n",
    "df_palabras = pd.DataFrame(columns = ['Palabra', 'Estado', 'Estados que la contienen'])\n",
    "for i in range(0,cantidad_palabras):\n",
    "    cadena_markov = CadenaMarkov(0)\n",
    "    palabra_buscada = palabras_totales[np.random.randint(0,len(palabras_totales),1)[0]]\n",
    "\n",
    "    estado = simular_busqueda_palabra(cadena_markov, palabra_buscada)\n",
    "    sitios_con_palabra = []\n",
    "    for sitio in [[sitio0,0],[sitio1,1],[sitio2,2],[sitio3,3],[sitio4,4],[sitio5,5]]:\n",
    "        if (palabra_buscada in sitio[0]): sitios_con_palabra.append(sitio[1])\n",
    "\n",
    "    df_palabras.loc[i] = [palabra_buscada, estado, sitios_con_palabra]\n",
    "    \n",
    "df_palabras"
   ]
  },
  {
   "cell_type": "markdown",
   "source": [
    "## Ejercicio 2\n",
    "En base a lo presentado en el trabajo “Queuing theory application in imaging service analysis for small Earth observation satellites”,\n",
    "simular los resultados obtenidos sobre la longitud de imágenes en cola esperando ser procesadas en la sección 3.1. Pure image capture service system.\n",
    "El ejercicio se puede resolver utilizando simpy o programación tradicional (a elección del grupo)"
   ],
   "metadata": {
    "collapsed": false
   }
  },
  {
   "cell_type": "code",
   "execution_count": 279,
   "outputs": [],
   "source": [
    "from matplotlib import pyplot as plt\n",
    "import simpy\n",
    "# TASA_ARRIBOS = 10\n",
    "# TASA_SERVICIO = 2\n",
    "# CAPACIDAD_SERVICIO = 1\n",
    "# CANTIDAD_ARRIBOS = 40\n",
    "# tiempos = []\n",
    "# request_en_espera = []\n",
    "#\n",
    "# # Dado que las request tienen una prioridad de acuerdo a la mayor oportunidad para capturar\n",
    "# # la imagen, se asignó una prioridad al azar.\n",
    "# def simular_prioridad():\n",
    "#     return np.random.randint(1,5)\n",
    "#\n",
    "# def generar_arribos_requests(env, res):\n",
    "#     arribos = 0\n",
    "#     while arribos < CANTIDAD_ARRIBOS:\n",
    "#         yield env.timeout(np.random.exponential(1/TASA_ARRIBOS))\n",
    "#         arribos += 1\n",
    "#         prioridad = simular_prioridad()\n",
    "#         print(f\"Request {arribos}: Sacar foto con prioridad {prioridad} arribó en tiempo {env.now}\")\n",
    "#         env.process(servicio_de_captura(env, res, prioridad))\n",
    "#\n",
    "# def servicio_de_captura(env, res, prioridad):\n",
    "#     request = res.request(priority=prioridad)\n",
    "#     # Aguarda liberacion del recurso\n",
    "#     yield request\n",
    "#     print(f\"Tomando fotografia con prioridad {prioridad}. Inició en tiempo {env.now}\")\n",
    "#     yield env.timeout(np.random.exponential(1/TASA_SERVICIO))\n",
    "#     print(f\"Fin de fotografia con prioridad {prioridad}. Tiempo {env.now}. Quedan en espera {len(res.queue)}\")\n",
    "#     #Guardamos datos\n",
    "#     tiempos.append(env.now)\n",
    "#     request_en_espera.append(len(res.queue))\n",
    "#     # Libera el recurso\n",
    "#     yield res.release(request)\n",
    "#\n",
    "# env = simpy.Environment()\n",
    "# recurso = simpy.PriorityResource(env, capacity=CAPACIDAD_SERVICIO)\n",
    "# env.process(generar_arribos_requests(env, recurso))\n",
    "# env.run()\n",
    "\n",
    "\n",
    "class SimuladorCola:\n",
    "    def __init__(self, tasa_arribos, tasa_servicio, arribos):\n",
    "        self.tasa_arribos = tasa_arribos\n",
    "        self.tasa_servicio = tasa_servicio\n",
    "        self.capacidad_servicio = 1\n",
    "        self.tiempos = []\n",
    "        self.request_en_espera = []\n",
    "        self.arribos_totales = arribos\n",
    "    # TASA_SERVICIO = 2\n",
    "    # CAPACIDAD_SERVICIO = 1\n",
    "    # CANTIDAD_ARRIBOS = 40\n",
    "    # tiempos = []\n",
    "    # request_en_espera = []\n",
    "\n",
    "    def simular_prioridad(self):\n",
    "        return np.random.randint(1,5)\n",
    "\n",
    "    def generar_arribos_requests(self, env, res):\n",
    "        arribos = 0\n",
    "        while arribos < self.arribos_totales:\n",
    "            yield env.timeout(np.random.exponential(1/self.tasa_arribos))\n",
    "            arribos += 1\n",
    "            prioridad = self.simular_prioridad()\n",
    "            #print(f\"Request {arribos}: Sacar foto con prioridad {prioridad} arribó en tiempo {env.now}\")\n",
    "            env.process(self.servicio_de_captura(env, res, prioridad))\n",
    "\n",
    "    def servicio_de_captura(self, env, res, prioridad):\n",
    "        request = res.request(priority=prioridad)\n",
    "        # Aguarda liberacion del recurso\n",
    "        yield request\n",
    "        #print(f\"Tomando fotografia con prioridad {prioridad}. Inició en tiempo {env.now}\")\n",
    "        yield env.timeout(np.random.exponential(1/self.tasa_servicio))\n",
    "        #print(f\"Fin de fotografia con prioridad {prioridad}. Tiempo {env.now}. Quedan en espera {len(res.queue)}\")\n",
    "        #Guardamos datos\n",
    "        self.tiempos.append(env.now)\n",
    "        self.request_en_espera.append(len(res.queue))\n",
    "        # Libera el recurso\n",
    "        yield res.release(request)\n",
    "\n",
    "    def simular(self):\n",
    "        env = simpy.Environment()\n",
    "        recurso = simpy.PriorityResource(env, capacity=self.capacidad_servicio)\n",
    "        env.process(self.generar_arribos_requests(env, recurso))\n",
    "        env.run()\n",
    "        return self.tiempos, self.request_en_espera\n",
    "\n",
    "def grafico_encolados_vs_tiempo(tiempos, cantidad_encolados):\n",
    "    plt.plot(tiempos, cantidad_encolados, '-')\n",
    "    plt.title(\"Longitud de la cola de espera\")\n",
    "    plt.ylabel(\"Cantidad\")\n",
    "    plt.xlabel(\"Tiempo(dias)\")\n",
    "    plt.show()"
   ],
   "metadata": {
    "collapsed": false
   }
  },
  {
   "cell_type": "code",
   "execution_count": 280,
   "outputs": [
    {
     "data": {
      "text/plain": "<Figure size 640x480 with 1 Axes>",
      "image/png": "[encoded data removed]"
     },
     "metadata": {},
     "output_type": "display_data"
    },
    {
     "name": "stdout",
     "output_type": "stream",
     "text": [
      "Arribos: 100, Tasa arribo: 10 req/día, Tasa arribo: 5 req/día\n"
     ]
    }
   ],
   "source": [
    "tasa_arribos = 10\n",
    "tasa_servicio = 5\n",
    "arribos = 100\n",
    "t, c = SimuladorCola(tasa_arribos, tasa_servicio, arribos).simular()\n",
    "grafico_encolados_vs_tiempo(t, c)\n",
    "print(f\"Arribos: {arribos}, Tasa arribo: {tasa_arribos} req/día, Tasa arribo: {tasa_servicio} req/día\")"
   ],
   "metadata": {
    "collapsed": false
   }
  },
  {
   "cell_type": "code",
   "execution_count": 281,
   "outputs": [
    {
     "data": {
      "text/plain": "<Figure size 640x480 with 1 Axes>",
      "image/png": "[encoded data removed]"
     },
     "metadata": {},
     "output_type": "display_data"
    },
    {
     "name": "stdout",
     "output_type": "stream",
     "text": [
      "Arribos: 200, Tasa arribo: 12 req/día, Tasa arribo: 7 req/día\n"
     ]
    }
   ],
   "source": [
    "tasa_arribos = 12\n",
    "tasa_servicio = 7\n",
    "arribos = 200\n",
    "t, c = SimuladorCola(tasa_arribos, tasa_servicio, arribos).simular()\n",
    "grafico_encolados_vs_tiempo(t, c)\n",
    "print(f\"Arribos: {arribos}, Tasa arribo: {tasa_arribos} req/día, Tasa arribo: {tasa_servicio} req/día\")\n",
    "\n"
   ],
   "metadata": {
    "collapsed": false
   }
  },
  {
   "cell_type": "markdown",
   "source": [
    "## Ejercicio 3\n",
    "Se está diseñando un web service, el cual cada vez que es invocado consulta a una base de datos. \\\\\n",
    "Se estima que el tiempo que transcurre entre cada llamada al servicio se puede modelar según una distribución exponencial con media de **4 segundos**. \\\\\n",
    "Se debe decidir la arquitectura de base de datos a utilizar entre las dos siguientes: \\\\\n",
    "\n",
    "1.   Utilizar 2 bases de datos distribuidas. \\\\\n",
    "Con probabilidad **p = 0.7** las solicitudes son atendidas por la base 1 y con  probabilidad **q = 1 - p** son atendidos por la base de datos 2. \\\\\n",
    "El tiempo que demora cada base de datos en atender una solicitud sigue una distribución exponencial con medias, **0,7 seg** y **1 seg** respectivamente.\n",
    "2.   Utilizar 1 base de datos central. \\\\\n",
    "En este caso la demora en resolver una solicitud sigue una distribución exponencial con **0,8 segundos**.\n",
    "\n",
    "Simular para cada opción 100.000 solicitudes procesadas, determinando: \\\\\n",
    "\n",
    "\n",
    "*   El tiempo medio de espera entre que la solicitud llega y puede ser procesada (suponer que ninguna conexión cae por timeout).\n",
    "*   La fracción de las solicitudes que no esperaron para ser procesadas.\n",
    "*   Probar con distintos escenarios, modificando los parámetros del ejercicio.\n",
    "\n",
    "El ejercicio se puede resolver utilizando Simpy o programación tradicional (a elección del grupo)"
   ],
   "metadata": {
    "id": "ntZunz65ouTd"
   },
   "id": "ntZunz65ouTd"
  },
  {
   "cell_type": "code",
   "source": [
    "expon.rvs(scale=1/4, random_state=10)"
   ],
   "metadata": {
    "id": "L2TUJjoV16Gu",
    "outputId": "e9f5a628-24e9-4cb7-881a-d1c49b6e10e5",
    "colab": {
     "base_uri": "https://localhost:8080/"
    }
   },
   "id": "L2TUJjoV16Gu",
   "execution_count": 282,
   "outputs": [
    {
     "data": {
      "text/plain": "0.36885861138654563"
     },
     "execution_count": 282,
     "metadata": {},
     "output_type": "execute_result"
    }
   ]
  },
  {
   "cell_type": "code",
   "source": [
    "p = 0.7\n",
    "media_peticion = 4\n",
    "media_base_1 = 0.7\n",
    "media_base_2 = 1\n",
    "\n",
    "media_base_central = 0.8"
   ],
   "metadata": {
    "id": "x6xzN0Rq4LWT"
   },
   "id": "x6xzN0Rq4LWT",
   "execution_count": 283,
   "outputs": []
  },
  {
   "cell_type": "code",
   "source": [
    "tiempo_peticiones = [expon.rvs(scale=1/media_peticion)]\n",
    "tiempo_base_1 = []\n",
    "tiempo_base_2 = []\n",
    "\n",
    "for i in range(1, 10000):\n",
    "  tiempo_peticion_actual = expon.rvs(scale=1/media_peticion)\n",
    "  tiempo_peticiones.append(tiempo_peticiones[i - 1] + tiempo_peticion_actual)\n",
    "  eleccion_base = uniform.rvs()\n",
    "  if eleccion_base < p:\n",
    "    tiempo_base_1.append(tiempo_peticiones[i - 1] + expon.rvs(scale=1/media_base_1))\n"
   ],
   "metadata": {
    "id": "fbxui5NpqeuD"
   },
   "id": "fbxui5NpqeuD",
   "execution_count": 284,
   "outputs": []
  }
 ],
 "metadata": {
  "kernelspec": {
   "display_name": "Python 3 (ipykernel)",
   "language": "python",
   "name": "python3"
  },
  "language_info": {
   "codemirror_mode": {
    "name": "ipython",
    "version": 3
   },
   "file_extension": ".py",
   "mimetype": "text/x-python",
   "name": "python",
   "nbconvert_exporter": "python",
   "pygments_lexer": "ipython3",
   "version": "3.8.10"
  },
  "colab": {
   "provenance": []
  }
 },
 "nbformat": 4,
 "nbformat_minor": 5
}
